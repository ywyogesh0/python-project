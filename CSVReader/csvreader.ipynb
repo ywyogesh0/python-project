{
 "cells": [
  {
   "cell_type": "code",
   "execution_count": 2,
   "metadata": {},
   "outputs": [],
   "source": [
    "import unicodecsv as ucv"
   ]
  },
  {
   "cell_type": "code",
   "execution_count": 3,
   "metadata": {},
   "outputs": [
    {
     "name": "stdout",
     "output_type": "stream",
     "text": [
      "[OrderedDict([('name', 'yogesh'), ('age', '23')]), OrderedDict([('name', 'Rohan'), ('age', '25')]), OrderedDict([('name', 'Rahul'), ('age', '34')])]\n"
     ]
    }
   ],
   "source": [
    "def getcsvreaderlist(filename):\n",
    "    with open(filename, 'rb') as f:\n",
    "        reader = ucv.DictReader(f)\n",
    "        return list(reader)\n",
    "    \n",
    "print(getcsvreaderlist('student.csv'))"
   ]
  },
  {
   "cell_type": "code",
   "execution_count": 4,
   "metadata": {},
   "outputs": [
    {
     "name": "stdout",
     "output_type": "stream",
     "text": [
      "{'Rahul', 'yogesh', 'Rohan'}\n"
     ]
    }
   ],
   "source": [
    "name = set()\n",
    "for data in getcsvreaderlist('student.csv'):\n",
    "    name.add(data['name'])\n",
    "    \n",
    "print(name)"
   ]
  },
  {
   "cell_type": "code",
   "execution_count": null,
   "metadata": {},
   "outputs": [],
   "source": []
  }
 ],
 "metadata": {
  "kernelspec": {
   "display_name": "Python 3",
   "language": "python",
   "name": "python3"
  },
  "language_info": {
   "codemirror_mode": {
    "name": "ipython",
    "version": 3
   },
   "file_extension": ".py",
   "mimetype": "text/x-python",
   "name": "python",
   "nbconvert_exporter": "python",
   "pygments_lexer": "ipython3",
   "version": "3.6.5"
  }
 },
 "nbformat": 4,
 "nbformat_minor": 2
}
