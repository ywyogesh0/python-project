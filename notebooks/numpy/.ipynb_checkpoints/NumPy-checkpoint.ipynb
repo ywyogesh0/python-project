{
 "cells": [
  {
   "cell_type": "code",
   "execution_count": 5,
   "metadata": {},
   "outputs": [],
   "source": [
    "import time\n",
    "import numpy as np"
   ]
  },
  {
   "cell_type": "code",
   "execution_count": 6,
   "metadata": {},
   "outputs": [],
   "source": [
    "list = np.random.random(100000000)"
   ]
  },
  {
   "cell_type": "code",
   "execution_count": 7,
   "metadata": {},
   "outputs": [
    {
     "name": "stdout",
     "output_type": "stream",
     "text": [
      "Average using list functions =  0.5000398610647286\n",
      "Time took =  24.020931720733643\n"
     ]
    }
   ],
   "source": [
    "start_time = time.time()\n",
    "print(\"Average using list functions = \", sum(list) / len(list))\n",
    "print(\"Time took = \", time.time() - start_time)"
   ]
  },
  {
   "cell_type": "code",
   "execution_count": 8,
   "metadata": {},
   "outputs": [
    {
     "name": "stdout",
     "output_type": "stream",
     "text": [
      "Average using NumPy =  0.5000398610647904\n",
      "Time took =  0.15740704536437988\n"
     ]
    }
   ],
   "source": [
    "start_time = time.time()\n",
    "print(\"Average using NumPy = \", np.mean(list))\n",
    "print(\"Time took = \", time.time() - start_time)"
   ]
  },
  {
   "cell_type": "code",
   "execution_count": 9,
   "metadata": {},
   "outputs": [
    {
     "name": "stdout",
     "output_type": "stream",
     "text": [
      "\n",
      "x =  [1 2 3 4 5]\n",
      "\n",
      "Shape =  (5,)\n",
      "Type =  <class 'numpy.ndarray'>\n",
      "dType =  int32\n"
     ]
    }
   ],
   "source": [
    "x = np.array([1, 2, 3, 4, 5])\n",
    "print()\n",
    "print(\"x = \", x)\n",
    "print()\n",
    "\n",
    "print(\"Shape = \", x.shape)\n",
    "print(\"Type = \", type(x))\n",
    "print(\"dType = \", x.dtype)"
   ]
  },
  {
   "cell_type": "code",
   "execution_count": 10,
   "metadata": {},
   "outputs": [
    {
     "name": "stdout",
     "output_type": "stream",
     "text": [
      "\n",
      "s =  ['Yogesh' 'Walia']\n",
      "\n",
      "Shape =  (2,)\n",
      "Type =  <class 'numpy.ndarray'>\n",
      "dType =  <U6\n"
     ]
    }
   ],
   "source": [
    "s = np.array([\"Yogesh\", \"Walia\"])\n",
    "print()\n",
    "print(\"s = \", s)\n",
    "print()\n",
    "\n",
    "print(\"Shape = \", s.shape)\n",
    "print(\"Type = \", type(s))\n",
    "print(\"dType = \", s.dtype)"
   ]
  },
  {
   "cell_type": "code",
   "execution_count": 11,
   "metadata": {},
   "outputs": [
    {
     "name": "stdout",
     "output_type": "stream",
     "text": [
      "\n",
      "m =  ['1' '2' 'Yogesh' 'Walia']\n",
      "\n",
      "Shape =  (4,)\n",
      "Type =  <class 'numpy.ndarray'>\n",
      "dType =  <U11\n"
     ]
    }
   ],
   "source": [
    "m = np.array([1, 2,\"Yogesh\", \"Walia\"])\n",
    "print()\n",
    "print(\"m = \", m)\n",
    "print()\n",
    "\n",
    "print(\"Shape = \", m.shape)\n",
    "print(\"Type = \", type(m))\n",
    "print(\"dType = \", m.dtype)"
   ]
  },
  {
   "cell_type": "code",
   "execution_count": 14,
   "metadata": {},
   "outputs": [
    {
     "name": "stdout",
     "output_type": "stream",
     "text": [
      "\n",
      "[[1 2]\n",
      " [3 4]\n",
      " [5 6]]\n",
      "\n",
      "Shape =  (3, 2)\n",
      "Size =  6\n",
      "Type =  <class 'numpy.ndarray'>\n",
      "dType =  int32\n"
     ]
    }
   ],
   "source": [
    "m = np.array([[1, 2], [3, 4], [5, 6]])\n",
    "print()\n",
    "print(m)\n",
    "print()\n",
    "\n",
    "print(\"Shape = \", m.shape)\n",
    "print(\"Size = \", m.size)\n",
    "print(\"Type = \", type(m))\n",
    "print(\"dType = \", m.dtype)"
   ]
  },
  {
   "cell_type": "code",
   "execution_count": 15,
   "metadata": {},
   "outputs": [
    {
     "name": "stdout",
     "output_type": "stream",
     "text": [
      "\n",
      "[[1.  2.2]\n",
      " [3.1 4. ]\n",
      " [5.1 6.2]]\n",
      "\n",
      "Shape =  (3, 2)\n",
      "Size =  6\n",
      "Type =  <class 'numpy.ndarray'>\n",
      "dType =  float64\n"
     ]
    }
   ],
   "source": [
    "m = np.array([[1.0, 2.2], [3.1, 4.0], [5.1, 6.2]])\n",
    "print()\n",
    "print(m)\n",
    "print()\n",
    "\n",
    "print(\"Shape = \", m.shape)\n",
    "print(\"Size = \", m.size)\n",
    "print(\"Type = \", type(m))\n",
    "print(\"dType = \", m.dtype)"
   ]
  },
  {
   "cell_type": "code",
   "execution_count": 16,
   "metadata": {},
   "outputs": [
    {
     "name": "stdout",
     "output_type": "stream",
     "text": [
      "\n",
      "[[1.  2. ]\n",
      " [3.  4.2]\n",
      " [5.  6. ]]\n",
      "\n",
      "Shape =  (3, 2)\n",
      "Size =  6\n",
      "Type =  <class 'numpy.ndarray'>\n",
      "dType =  float64\n"
     ]
    }
   ],
   "source": [
    "m = np.array([[1, 2], [3, 4.2], [5, 6]])\n",
    "print()\n",
    "print(m)\n",
    "print()\n",
    "\n",
    "print(\"Shape = \", m.shape)\n",
    "print(\"Size = \", m.size)\n",
    "print(\"Type = \", type(m))\n",
    "print(\"dType = \", m.dtype)"
   ]
  },
  {
   "cell_type": "code",
   "execution_count": 20,
   "metadata": {},
   "outputs": [
    {
     "name": "stdout",
     "output_type": "stream",
     "text": [
      "\n",
      "[[1 2]\n",
      " [3 4]\n",
      " [5 6]]\n",
      "\n",
      "Shape =  (3, 2)\n",
      "Size =  6\n",
      "Type =  <class 'numpy.ndarray'>\n",
      "dType =  int64\n"
     ]
    }
   ],
   "source": [
    "m = np.array([[1, 2], [3, 4.4], [5, 6]], dtype=np.int64)\n",
    "print()\n",
    "print(m)\n",
    "print()\n",
    "\n",
    "print(\"Shape = \", m.shape)\n",
    "print(\"Size = \", m.size)\n",
    "print(\"Type = \", type(m))\n",
    "print(\"dType = \", m.dtype)"
   ]
  },
  {
   "cell_type": "code",
   "execution_count": 22,
   "metadata": {},
   "outputs": [
    {
     "name": "stdout",
     "output_type": "stream",
     "text": [
      "\n",
      "[[1.  2. ]\n",
      " [3.  4.4]\n",
      " [5.  6. ]]\n",
      "\n",
      "Shape =  (3, 2)\n",
      "Size =  6\n",
      "Type =  <class 'numpy.ndarray'>\n",
      "dType =  float64\n"
     ]
    }
   ],
   "source": [
    "n = np.array([[1, 2], [3, 4.4], [5, 6]])\n",
    "\n",
    "np.save('float_array', n)\n",
    "m = np.load('float_array.npy')\n",
    "\n",
    "print()\n",
    "print(m)\n",
    "print()\n",
    "\n",
    "print(\"Shape = \", m.shape)\n",
    "print(\"Size = \", m.size)\n",
    "print(\"Type = \", type(m))\n",
    "print(\"dType = \", m.dtype)"
   ]
  },
  {
   "cell_type": "code",
   "execution_count": 23,
   "metadata": {},
   "outputs": [
    {
     "name": "stdout",
     "output_type": "stream",
     "text": [
      "\n",
      "[[0. 0. 0.]\n",
      " [0. 0. 0.]]\n",
      "\n",
      "Shape =  (2, 3)\n",
      "Size =  6\n",
      "Type =  <class 'numpy.ndarray'>\n",
      "dType =  float64\n"
     ]
    }
   ],
   "source": [
    "m = np.zeros((2,3))\n",
    "print()\n",
    "print(m)\n",
    "print()\n",
    "\n",
    "print(\"Shape = \", m.shape)\n",
    "print(\"Size = \", m.size)\n",
    "print(\"Type = \", type(m))\n",
    "print(\"dType = \", m.dtype)"
   ]
  },
  {
   "cell_type": "code",
   "execution_count": 24,
   "metadata": {},
   "outputs": [
    {
     "name": "stdout",
     "output_type": "stream",
     "text": [
      "\n",
      "[[1. 1. 1.]\n",
      " [1. 1. 1.]]\n",
      "\n",
      "Shape =  (2, 3)\n",
      "Size =  6\n",
      "Type =  <class 'numpy.ndarray'>\n",
      "dType =  float64\n"
     ]
    }
   ],
   "source": [
    "m = np.ones((2,3))\n",
    "print()\n",
    "print(m)\n",
    "print()\n",
    "\n",
    "print(\"Shape = \", m.shape)\n",
    "print(\"Size = \", m.size)\n",
    "print(\"Type = \", type(m))\n",
    "print(\"dType = \", m.dtype)"
   ]
  },
  {
   "cell_type": "code",
   "execution_count": 25,
   "metadata": {},
   "outputs": [
    {
     "name": "stdout",
     "output_type": "stream",
     "text": [
      "\n",
      "[[4 4 4]\n",
      " [4 4 4]]\n",
      "\n",
      "Shape =  (2, 3)\n",
      "Size =  6\n",
      "Type =  <class 'numpy.ndarray'>\n",
      "dType =  int32\n"
     ]
    }
   ],
   "source": [
    "m = np.full((2,3), 4)\n",
    "print()\n",
    "print(m)\n",
    "print()\n",
    "\n",
    "print(\"Shape = \", m.shape)\n",
    "print(\"Size = \", m.size)\n",
    "print(\"Type = \", type(m))\n",
    "print(\"dType = \", m.dtype)"
   ]
  },
  {
   "cell_type": "code",
   "execution_count": 26,
   "metadata": {},
   "outputs": [
    {
     "name": "stdout",
     "output_type": "stream",
     "text": [
      "\n",
      "[[1. 0. 0.]\n",
      " [0. 1. 0.]\n",
      " [0. 0. 1.]]\n",
      "\n",
      "Shape =  (3, 3)\n",
      "Size =  9\n",
      "Type =  <class 'numpy.ndarray'>\n",
      "dType =  float64\n"
     ]
    }
   ],
   "source": [
    "m = np.eye(3)\n",
    "print()\n",
    "print(m)\n",
    "print()\n",
    "\n",
    "print(\"Shape = \", m.shape)\n",
    "print(\"Size = \", m.size)\n",
    "print(\"Type = \", type(m))\n",
    "print(\"dType = \", m.dtype)"
   ]
  },
  {
   "cell_type": "code",
   "execution_count": 28,
   "metadata": {},
   "outputs": [
    {
     "name": "stdout",
     "output_type": "stream",
     "text": [
      "\n",
      "[[3 0 0]\n",
      " [0 5 0]\n",
      " [0 0 3]]\n",
      "\n",
      "Shape =  (3, 3)\n",
      "Size =  9\n",
      "Type =  <class 'numpy.ndarray'>\n",
      "dType =  int32\n"
     ]
    }
   ],
   "source": [
    "m = np.diag([3, 5, 3])\n",
    "print()\n",
    "print(m)\n",
    "print()\n",
    "\n",
    "print(\"Shape = \", m.shape)\n",
    "print(\"Size = \", m.size)\n",
    "print(\"Type = \", type(m))\n",
    "print(\"dType = \", m.dtype)"
   ]
  },
  {
   "cell_type": "code",
   "execution_count": 30,
   "metadata": {},
   "outputs": [
    {
     "name": "stdout",
     "output_type": "stream",
     "text": [
      "\n",
      "[0 1 2]\n",
      "\n",
      "Shape =  (3,)\n",
      "Size =  3\n",
      "Type =  <class 'numpy.ndarray'>\n",
      "dType =  int32\n"
     ]
    }
   ],
   "source": [
    "m = np.arange(3)\n",
    "print()\n",
    "print(m)\n",
    "print()\n",
    "\n",
    "print(\"Shape = \", m.shape)\n",
    "print(\"Size = \", m.size)\n",
    "print(\"Type = \", type(m))\n",
    "print(\"dType = \", m.dtype)"
   ]
  },
  {
   "cell_type": "code",
   "execution_count": 31,
   "metadata": {},
   "outputs": [
    {
     "name": "stdout",
     "output_type": "stream",
     "text": [
      "\n",
      "[3 4 5 6 7 8 9]\n",
      "\n",
      "Shape =  (7,)\n",
      "Size =  7\n",
      "Type =  <class 'numpy.ndarray'>\n",
      "dType =  int32\n"
     ]
    }
   ],
   "source": [
    "m = np.arange(3, 10)\n",
    "print()\n",
    "print(m)\n",
    "print()\n",
    "\n",
    "print(\"Shape = \", m.shape)\n",
    "print(\"Size = \", m.size)\n",
    "print(\"Type = \", type(m))\n",
    "print(\"dType = \", m.dtype)"
   ]
  },
  {
   "cell_type": "code",
   "execution_count": 32,
   "metadata": {},
   "outputs": [
    {
     "name": "stdout",
     "output_type": "stream",
     "text": [
      "\n",
      "[3 5 7 9]\n",
      "\n",
      "Shape =  (4,)\n",
      "Size =  4\n",
      "Type =  <class 'numpy.ndarray'>\n",
      "dType =  int32\n"
     ]
    }
   ],
   "source": [
    "m = np.arange(3, 10, 2)\n",
    "print()\n",
    "print(m)\n",
    "print()\n",
    "\n",
    "print(\"Shape = \", m.shape)\n",
    "print(\"Size = \", m.size)\n",
    "print(\"Type = \", type(m))\n",
    "print(\"dType = \", m.dtype)"
   ]
  },
  {
   "cell_type": "code",
   "execution_count": 33,
   "metadata": {},
   "outputs": [
    {
     "name": "stdout",
     "output_type": "stream",
     "text": [
      "\n",
      "[ 3.   6.5 10. ]\n",
      "\n",
      "Shape =  (3,)\n",
      "Size =  3\n",
      "Type =  <class 'numpy.ndarray'>\n",
      "dType =  float64\n"
     ]
    }
   ],
   "source": [
    "m = np.linspace(3, 10, 3)\n",
    "print()\n",
    "print(m)\n",
    "print()\n",
    "\n",
    "print(\"Shape = \", m.shape)\n",
    "print(\"Size = \", m.size)\n",
    "print(\"Type = \", type(m))\n",
    "print(\"dType = \", m.dtype)"
   ]
  },
  {
   "cell_type": "code",
   "execution_count": 36,
   "metadata": {},
   "outputs": [
    {
     "name": "stdout",
     "output_type": "stream",
     "text": [
      "\n",
      "[3. 9.]\n",
      "\n",
      "Shape =  (2,)\n",
      "Size =  2\n",
      "Type =  <class 'numpy.ndarray'>\n",
      "dType =  float64\n"
     ]
    }
   ],
   "source": [
    "m = np.linspace(3, 15, 2, endpoint=False)\n",
    "print()\n",
    "print(m)\n",
    "print()\n",
    "\n",
    "print(\"Shape = \", m.shape)\n",
    "print(\"Size = \", m.size)\n",
    "print(\"Type = \", type(m))\n",
    "print(\"dType = \", m.dtype)"
   ]
  },
  {
   "cell_type": "code",
   "execution_count": 40,
   "metadata": {},
   "outputs": [
    {
     "name": "stdout",
     "output_type": "stream",
     "text": [
      "\n",
      "[0 1 2 3 4 5 6 7 8]\n",
      "\n",
      "Shape =  (9,)\n",
      "Size =  9\n",
      "Type =  <class 'numpy.ndarray'>\n",
      "dType =  int32\n",
      "\n",
      "[[0 1 2]\n",
      " [3 4 5]\n",
      " [6 7 8]]\n",
      "\n",
      "Shape =  (3, 3)\n",
      "Size =  9\n",
      "Type =  <class 'numpy.ndarray'>\n",
      "dType =  int32\n"
     ]
    }
   ],
   "source": [
    "x = np.arange(9)\n",
    "print()\n",
    "print(x)\n",
    "print()\n",
    "\n",
    "print(\"Shape = \", x.shape)\n",
    "print(\"Size = \", x.size)\n",
    "print(\"Type = \", type(x))\n",
    "print(\"dType = \", x.dtype)\n",
    "\n",
    "m = np.reshape(x, (3, 3))\n",
    "print()\n",
    "print(m)\n",
    "print()\n",
    "\n",
    "print(\"Shape = \", m.shape)\n",
    "print(\"Size = \", m.size)\n",
    "print(\"Type = \", type(m))\n",
    "print(\"dType = \", m.dtype)"
   ]
  },
  {
   "cell_type": "code",
   "execution_count": null,
   "metadata": {},
   "outputs": [],
   "source": []
  }
 ],
 "metadata": {
  "kernelspec": {
   "display_name": "Python 3",
   "language": "python",
   "name": "python3"
  },
  "language_info": {
   "codemirror_mode": {
    "name": "ipython",
    "version": 3
   },
   "file_extension": ".py",
   "mimetype": "text/x-python",
   "name": "python",
   "nbconvert_exporter": "python",
   "pygments_lexer": "ipython3",
   "version": "3.6.5"
  }
 },
 "nbformat": 4,
 "nbformat_minor": 2
}
