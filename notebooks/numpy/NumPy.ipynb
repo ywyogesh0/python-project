{
 "cells": [
  {
   "cell_type": "code",
   "execution_count": 86,
   "metadata": {},
   "outputs": [],
   "source": [
    "import time\n",
    "import numpy as np"
   ]
  },
  {
   "cell_type": "code",
   "execution_count": 87,
   "metadata": {},
   "outputs": [],
   "source": [
    "list = np.random.random(100000000)"
   ]
  },
  {
   "cell_type": "code",
   "execution_count": 88,
   "metadata": {},
   "outputs": [
    {
     "name": "stdout",
     "output_type": "stream",
     "text": [
      "Average using list functions =  0.500003755471463\n",
      "Time took =  13.897486448287964\n"
     ]
    }
   ],
   "source": [
    "start_time = time.time()\n",
    "print(\"Average using list functions = \", sum(list) / len(list))\n",
    "print(\"Time took = \", time.time() - start_time)"
   ]
  },
  {
   "cell_type": "code",
   "execution_count": 89,
   "metadata": {},
   "outputs": [
    {
     "name": "stdout",
     "output_type": "stream",
     "text": [
      "Average using NumPy =  0.500003755471316\n",
      "Time took =  0.1758878231048584\n"
     ]
    }
   ],
   "source": [
    "start_time = time.time()\n",
    "print(\"Average using NumPy = \", np.mean(list))\n",
    "print(\"Time took = \", time.time() - start_time)"
   ]
  },
  {
   "cell_type": "code",
   "execution_count": 90,
   "metadata": {},
   "outputs": [
    {
     "name": "stdout",
     "output_type": "stream",
     "text": [
      "\n",
      "x =  [1 2 3 4 5]\n",
      "\n",
      "Shape =  (5,)\n",
      "Type =  <class 'numpy.ndarray'>\n",
      "dType =  int32\n"
     ]
    }
   ],
   "source": [
    "x = np.array([1, 2, 3, 4, 5])\n",
    "print()\n",
    "print(\"x = \", x)\n",
    "print()\n",
    "\n",
    "print(\"Shape = \", x.shape)\n",
    "print(\"Type = \", type(x))\n",
    "print(\"dType = \", x.dtype)"
   ]
  },
  {
   "cell_type": "code",
   "execution_count": 91,
   "metadata": {},
   "outputs": [
    {
     "name": "stdout",
     "output_type": "stream",
     "text": [
      "\n",
      "s =  ['Yogesh' 'Walia']\n",
      "\n",
      "Shape =  (2,)\n",
      "Type =  <class 'numpy.ndarray'>\n",
      "dType =  <U6\n"
     ]
    }
   ],
   "source": [
    "s = np.array([\"Yogesh\", \"Walia\"])\n",
    "print()\n",
    "print(\"s = \", s)\n",
    "print()\n",
    "\n",
    "print(\"Shape = \", s.shape)\n",
    "print(\"Type = \", type(s))\n",
    "print(\"dType = \", s.dtype)"
   ]
  },
  {
   "cell_type": "code",
   "execution_count": 92,
   "metadata": {},
   "outputs": [
    {
     "name": "stdout",
     "output_type": "stream",
     "text": [
      "\n",
      "m =  ['1' '2' 'Yogesh' 'Walia']\n",
      "\n",
      "Shape =  (4,)\n",
      "Type =  <class 'numpy.ndarray'>\n",
      "dType =  <U11\n"
     ]
    }
   ],
   "source": [
    "m = np.array([1, 2,\"Yogesh\", \"Walia\"])\n",
    "print()\n",
    "print(\"m = \", m)\n",
    "print()\n",
    "\n",
    "print(\"Shape = \", m.shape)\n",
    "print(\"Type = \", type(m))\n",
    "print(\"dType = \", m.dtype)"
   ]
  },
  {
   "cell_type": "code",
   "execution_count": 93,
   "metadata": {},
   "outputs": [
    {
     "name": "stdout",
     "output_type": "stream",
     "text": [
      "\n",
      "[[1 2]\n",
      " [3 4]\n",
      " [5 6]]\n",
      "\n",
      "Shape =  (3, 2)\n",
      "Size =  6\n",
      "Type =  <class 'numpy.ndarray'>\n",
      "dType =  int32\n"
     ]
    }
   ],
   "source": [
    "m = np.array([[1, 2], [3, 4], [5, 6]])\n",
    "print()\n",
    "print(m)\n",
    "print()\n",
    "\n",
    "print(\"Shape = \", m.shape)\n",
    "print(\"Size = \", m.size)\n",
    "print(\"Type = \", type(m))\n",
    "print(\"dType = \", m.dtype)"
   ]
  },
  {
   "cell_type": "code",
   "execution_count": 94,
   "metadata": {},
   "outputs": [
    {
     "name": "stdout",
     "output_type": "stream",
     "text": [
      "\n",
      "[[1.  2.2]\n",
      " [3.1 4. ]\n",
      " [5.1 6.2]]\n",
      "\n",
      "Shape =  (3, 2)\n",
      "Size =  6\n",
      "Type =  <class 'numpy.ndarray'>\n",
      "dType =  float64\n"
     ]
    }
   ],
   "source": [
    "m = np.array([[1.0, 2.2], [3.1, 4.0], [5.1, 6.2]])\n",
    "print()\n",
    "print(m)\n",
    "print()\n",
    "\n",
    "print(\"Shape = \", m.shape)\n",
    "print(\"Size = \", m.size)\n",
    "print(\"Type = \", type(m))\n",
    "print(\"dType = \", m.dtype)"
   ]
  },
  {
   "cell_type": "code",
   "execution_count": 95,
   "metadata": {},
   "outputs": [
    {
     "name": "stdout",
     "output_type": "stream",
     "text": [
      "\n",
      "[[1.  2. ]\n",
      " [3.  4.2]\n",
      " [5.  6. ]]\n",
      "\n",
      "Shape =  (3, 2)\n",
      "Size =  6\n",
      "Type =  <class 'numpy.ndarray'>\n",
      "dType =  float64\n"
     ]
    }
   ],
   "source": [
    "m = np.array([[1, 2], [3, 4.2], [5, 6]])\n",
    "print()\n",
    "print(m)\n",
    "print()\n",
    "\n",
    "print(\"Shape = \", m.shape)\n",
    "print(\"Size = \", m.size)\n",
    "print(\"Type = \", type(m))\n",
    "print(\"dType = \", m.dtype)"
   ]
  },
  {
   "cell_type": "code",
   "execution_count": 96,
   "metadata": {},
   "outputs": [
    {
     "name": "stdout",
     "output_type": "stream",
     "text": [
      "\n",
      "[[1 2]\n",
      " [3 4]\n",
      " [5 6]]\n",
      "\n",
      "Shape =  (3, 2)\n",
      "Size =  6\n",
      "Type =  <class 'numpy.ndarray'>\n",
      "dType =  int64\n"
     ]
    }
   ],
   "source": [
    "m = np.array([[1, 2], [3, 4.4], [5, 6]], dtype=np.int64)\n",
    "print()\n",
    "print(m)\n",
    "print()\n",
    "\n",
    "print(\"Shape = \", m.shape)\n",
    "print(\"Size = \", m.size)\n",
    "print(\"Type = \", type(m))\n",
    "print(\"dType = \", m.dtype)"
   ]
  },
  {
   "cell_type": "code",
   "execution_count": 97,
   "metadata": {},
   "outputs": [
    {
     "name": "stdout",
     "output_type": "stream",
     "text": [
      "\n",
      "[[1.  2. ]\n",
      " [3.  4.4]\n",
      " [5.  6. ]]\n",
      "\n",
      "Shape =  (3, 2)\n",
      "Size =  6\n",
      "Type =  <class 'numpy.ndarray'>\n",
      "dType =  float64\n"
     ]
    }
   ],
   "source": [
    "n = np.array([[1, 2], [3, 4.4], [5, 6]])\n",
    "\n",
    "np.save('float_array', n)\n",
    "m = np.load('float_array.npy')\n",
    "\n",
    "print()\n",
    "print(m)\n",
    "print()\n",
    "\n",
    "print(\"Shape = \", m.shape)\n",
    "print(\"Size = \", m.size)\n",
    "print(\"Type = \", type(m))\n",
    "print(\"dType = \", m.dtype)"
   ]
  },
  {
   "cell_type": "code",
   "execution_count": 98,
   "metadata": {},
   "outputs": [
    {
     "name": "stdout",
     "output_type": "stream",
     "text": [
      "\n",
      "[[0. 0. 0.]\n",
      " [0. 0. 0.]]\n",
      "\n",
      "Shape =  (2, 3)\n",
      "Size =  6\n",
      "Type =  <class 'numpy.ndarray'>\n",
      "dType =  float64\n"
     ]
    }
   ],
   "source": [
    "m = np.zeros((2,3))\n",
    "print()\n",
    "print(m)\n",
    "print()\n",
    "\n",
    "print(\"Shape = \", m.shape)\n",
    "print(\"Size = \", m.size)\n",
    "print(\"Type = \", type(m))\n",
    "print(\"dType = \", m.dtype)"
   ]
  },
  {
   "cell_type": "code",
   "execution_count": 99,
   "metadata": {},
   "outputs": [
    {
     "name": "stdout",
     "output_type": "stream",
     "text": [
      "\n",
      "[[1. 1. 1.]\n",
      " [1. 1. 1.]]\n",
      "\n",
      "Shape =  (2, 3)\n",
      "Size =  6\n",
      "Type =  <class 'numpy.ndarray'>\n",
      "dType =  float64\n"
     ]
    }
   ],
   "source": [
    "m = np.ones((2,3))\n",
    "print()\n",
    "print(m)\n",
    "print()\n",
    "\n",
    "print(\"Shape = \", m.shape)\n",
    "print(\"Size = \", m.size)\n",
    "print(\"Type = \", type(m))\n",
    "print(\"dType = \", m.dtype)"
   ]
  },
  {
   "cell_type": "code",
   "execution_count": 100,
   "metadata": {},
   "outputs": [
    {
     "name": "stdout",
     "output_type": "stream",
     "text": [
      "\n",
      "[[4 4 4]\n",
      " [4 4 4]]\n",
      "\n",
      "Shape =  (2, 3)\n",
      "Size =  6\n",
      "Type =  <class 'numpy.ndarray'>\n",
      "dType =  int32\n"
     ]
    }
   ],
   "source": [
    "m = np.full((2,3), 4)\n",
    "print()\n",
    "print(m)\n",
    "print()\n",
    "\n",
    "print(\"Shape = \", m.shape)\n",
    "print(\"Size = \", m.size)\n",
    "print(\"Type = \", type(m))\n",
    "print(\"dType = \", m.dtype)"
   ]
  },
  {
   "cell_type": "code",
   "execution_count": 101,
   "metadata": {},
   "outputs": [
    {
     "name": "stdout",
     "output_type": "stream",
     "text": [
      "\n",
      "[[1. 0. 0.]\n",
      " [0. 1. 0.]\n",
      " [0. 0. 1.]]\n",
      "\n",
      "Shape =  (3, 3)\n",
      "Size =  9\n",
      "Type =  <class 'numpy.ndarray'>\n",
      "dType =  float64\n"
     ]
    }
   ],
   "source": [
    "m = np.eye(3)\n",
    "print()\n",
    "print(m)\n",
    "print()\n",
    "\n",
    "print(\"Shape = \", m.shape)\n",
    "print(\"Size = \", m.size)\n",
    "print(\"Type = \", type(m))\n",
    "print(\"dType = \", m.dtype)"
   ]
  },
  {
   "cell_type": "code",
   "execution_count": 102,
   "metadata": {},
   "outputs": [
    {
     "name": "stdout",
     "output_type": "stream",
     "text": [
      "\n",
      "[[3 0 0]\n",
      " [0 5 0]\n",
      " [0 0 3]]\n",
      "\n",
      "Shape =  (3, 3)\n",
      "Size =  9\n",
      "Type =  <class 'numpy.ndarray'>\n",
      "dType =  int32\n"
     ]
    }
   ],
   "source": [
    "m = np.diag([3, 5, 3])\n",
    "print()\n",
    "print(m)\n",
    "print()\n",
    "\n",
    "print(\"Shape = \", m.shape)\n",
    "print(\"Size = \", m.size)\n",
    "print(\"Type = \", type(m))\n",
    "print(\"dType = \", m.dtype)"
   ]
  },
  {
   "cell_type": "code",
   "execution_count": 103,
   "metadata": {},
   "outputs": [
    {
     "name": "stdout",
     "output_type": "stream",
     "text": [
      "\n",
      "[0 1 2]\n",
      "\n",
      "Shape =  (3,)\n",
      "Size =  3\n",
      "Type =  <class 'numpy.ndarray'>\n",
      "dType =  int32\n"
     ]
    }
   ],
   "source": [
    "m = np.arange(3)\n",
    "print()\n",
    "print(m)\n",
    "print()\n",
    "\n",
    "print(\"Shape = \", m.shape)\n",
    "print(\"Size = \", m.size)\n",
    "print(\"Type = \", type(m))\n",
    "print(\"dType = \", m.dtype)"
   ]
  },
  {
   "cell_type": "code",
   "execution_count": 104,
   "metadata": {},
   "outputs": [
    {
     "name": "stdout",
     "output_type": "stream",
     "text": [
      "\n",
      "[3 4 5 6 7 8 9]\n",
      "\n",
      "Shape =  (7,)\n",
      "Size =  7\n",
      "Type =  <class 'numpy.ndarray'>\n",
      "dType =  int32\n"
     ]
    }
   ],
   "source": [
    "m = np.arange(3, 10)\n",
    "print()\n",
    "print(m)\n",
    "print()\n",
    "\n",
    "print(\"Shape = \", m.shape)\n",
    "print(\"Size = \", m.size)\n",
    "print(\"Type = \", type(m))\n",
    "print(\"dType = \", m.dtype)"
   ]
  },
  {
   "cell_type": "code",
   "execution_count": 105,
   "metadata": {},
   "outputs": [
    {
     "name": "stdout",
     "output_type": "stream",
     "text": [
      "\n",
      "[3 5 7 9]\n",
      "\n",
      "Shape =  (4,)\n",
      "Size =  4\n",
      "Type =  <class 'numpy.ndarray'>\n",
      "dType =  int32\n"
     ]
    }
   ],
   "source": [
    "m = np.arange(3, 10, 2)\n",
    "print()\n",
    "print(m)\n",
    "print()\n",
    "\n",
    "print(\"Shape = \", m.shape)\n",
    "print(\"Size = \", m.size)\n",
    "print(\"Type = \", type(m))\n",
    "print(\"dType = \", m.dtype)"
   ]
  },
  {
   "cell_type": "code",
   "execution_count": 106,
   "metadata": {},
   "outputs": [
    {
     "name": "stdout",
     "output_type": "stream",
     "text": [
      "\n",
      "[ 3.   6.5 10. ]\n",
      "\n",
      "Shape =  (3,)\n",
      "Size =  3\n",
      "Type =  <class 'numpy.ndarray'>\n",
      "dType =  float64\n"
     ]
    }
   ],
   "source": [
    "m = np.linspace(3, 10, 3)\n",
    "print()\n",
    "print(m)\n",
    "print()\n",
    "\n",
    "print(\"Shape = \", m.shape)\n",
    "print(\"Size = \", m.size)\n",
    "print(\"Type = \", type(m))\n",
    "print(\"dType = \", m.dtype)"
   ]
  },
  {
   "cell_type": "code",
   "execution_count": 107,
   "metadata": {},
   "outputs": [
    {
     "name": "stdout",
     "output_type": "stream",
     "text": [
      "\n",
      "[3. 9.]\n",
      "\n",
      "Shape =  (2,)\n",
      "Size =  2\n",
      "Type =  <class 'numpy.ndarray'>\n",
      "dType =  float64\n"
     ]
    }
   ],
   "source": [
    "m = np.linspace(3, 15, 2, endpoint=False)\n",
    "print()\n",
    "print(m)\n",
    "print()\n",
    "\n",
    "print(\"Shape = \", m.shape)\n",
    "print(\"Size = \", m.size)\n",
    "print(\"Type = \", type(m))\n",
    "print(\"dType = \", m.dtype)"
   ]
  },
  {
   "cell_type": "code",
   "execution_count": 108,
   "metadata": {},
   "outputs": [
    {
     "name": "stdout",
     "output_type": "stream",
     "text": [
      "\n",
      "[0 1 2 3 4 5 6 7 8]\n",
      "\n",
      "Shape =  (9,)\n",
      "Size =  9\n",
      "Type =  <class 'numpy.ndarray'>\n",
      "dType =  int32\n",
      "\n",
      "[[0 1 2]\n",
      " [3 4 5]\n",
      " [6 7 8]]\n",
      "\n",
      "Shape =  (3, 3)\n",
      "Size =  9\n",
      "Type =  <class 'numpy.ndarray'>\n",
      "dType =  int32\n"
     ]
    }
   ],
   "source": [
    "x = np.arange(9)\n",
    "print()\n",
    "print(x)\n",
    "print()\n",
    "\n",
    "print(\"Shape = \", x.shape)\n",
    "print(\"Size = \", x.size)\n",
    "print(\"Type = \", type(x))\n",
    "print(\"dType = \", x.dtype)\n",
    "\n",
    "m = np.reshape(x, (3, 3))\n",
    "print()\n",
    "print(m)\n",
    "print()\n",
    "\n",
    "print(\"Shape = \", m.shape)\n",
    "print(\"Size = \", m.size)\n",
    "print(\"Type = \", type(m))\n",
    "print(\"dType = \", m.dtype)"
   ]
  },
  {
   "cell_type": "code",
   "execution_count": 109,
   "metadata": {},
   "outputs": [
    {
     "name": "stdout",
     "output_type": "stream",
     "text": [
      "\n",
      "[[0 1 2]\n",
      " [3 4 5]\n",
      " [6 7 8]]\n",
      "\n",
      "Shape =  (3, 3)\n",
      "Size =  9\n",
      "Type =  <class 'numpy.ndarray'>\n",
      "dType =  int32\n"
     ]
    }
   ],
   "source": [
    "m = np.arange(9).reshape(3, 3)\n",
    "print()\n",
    "print(m)\n",
    "print()\n",
    "\n",
    "print(\"Shape = \", m.shape)\n",
    "print(\"Size = \", m.size)\n",
    "print(\"Type = \", type(m))\n",
    "print(\"dType = \", m.dtype)"
   ]
  },
  {
   "cell_type": "code",
   "execution_count": 110,
   "metadata": {},
   "outputs": [
    {
     "name": "stdout",
     "output_type": "stream",
     "text": [
      "\n",
      "[[ 2.]\n",
      " [ 4.]\n",
      " [ 6.]\n",
      " [ 8.]\n",
      " [10.]]\n",
      "\n",
      "Shape =  (5, 1)\n",
      "Size =  5\n",
      "Type =  <class 'numpy.ndarray'>\n",
      "dType =  float64\n"
     ]
    }
   ],
   "source": [
    "m = np.linspace(2, 10, 5).reshape(5, 1)\n",
    "print()\n",
    "print(m)\n",
    "print()\n",
    "\n",
    "print(\"Shape = \", m.shape)\n",
    "print(\"Size = \", m.size)\n",
    "print(\"Type = \", type(m))\n",
    "print(\"dType = \", m.dtype)"
   ]
  },
  {
   "cell_type": "code",
   "execution_count": 111,
   "metadata": {},
   "outputs": [
    {
     "name": "stdout",
     "output_type": "stream",
     "text": [
      "\n",
      "[[0.49384639 0.77291046]\n",
      " [0.75521978 0.34563228]]\n",
      "\n",
      "Shape =  (2, 2)\n",
      "Size =  4\n",
      "Type =  <class 'numpy.ndarray'>\n",
      "dType =  float64\n"
     ]
    }
   ],
   "source": [
    "m = np.random.random((2, 2))\n",
    "print()\n",
    "print(m)\n",
    "print()\n",
    "\n",
    "print(\"Shape = \", m.shape)\n",
    "print(\"Size = \", m.size)\n",
    "print(\"Type = \", type(m))\n",
    "print(\"dType = \", m.dtype)"
   ]
  },
  {
   "cell_type": "code",
   "execution_count": 112,
   "metadata": {},
   "outputs": [
    {
     "name": "stdout",
     "output_type": "stream",
     "text": [
      "\n",
      "[[4 5]\n",
      " [4 4]\n",
      " [5 4]]\n",
      "\n",
      "Shape =  (3, 2)\n",
      "Size =  6\n",
      "Type =  <class 'numpy.ndarray'>\n",
      "dType =  int32\n"
     ]
    }
   ],
   "source": [
    "m = np.random.randint(3, 6, size = (3, 2))\n",
    "print()\n",
    "print(m)\n",
    "print()\n",
    "\n",
    "print(\"Shape = \", m.shape)\n",
    "print(\"Size = \", m.size)\n",
    "print(\"Type = \", type(m))\n",
    "print(\"dType = \", m.dtype)"
   ]
  },
  {
   "cell_type": "code",
   "execution_count": 113,
   "metadata": {},
   "outputs": [
    {
     "name": "stdout",
     "output_type": "stream",
     "text": [
      "\n",
      "[[4.278727   3.11294054 7.97477482 ... 8.10283277 4.57595918 7.1538537 ]\n",
      " [6.55110393 6.50183159 2.9400153  ... 2.4796136  2.74610033 5.78970576]\n",
      " [3.7257301  2.92014692 7.29882946 ... 4.68484092 5.77829552 5.49807265]\n",
      " ...\n",
      " [1.36132959 7.45068603 7.87498426 ... 1.30516544 3.79190933 6.87590169]\n",
      " [9.71742689 7.35811414 5.78760305 ... 5.87912824 4.51789596 7.47352834]\n",
      " [2.00073673 4.77174494 1.70035395 ... 4.25211383 4.52464448 5.00345107]]\n",
      "\n",
      "Shape =  (100, 100)\n",
      "Size =  10000\n",
      "Type =  <class 'numpy.ndarray'>\n",
      "dType =  float64\n",
      "max =  12.7801609545809\n",
      "min =  -2.999349870417107\n",
      "mean =  4.990115175386582\n",
      "+ve count =  9939\n",
      "-ve count =  61\n"
     ]
    }
   ],
   "source": [
    "m = np.random.normal(5, 2, size = (100, 100))\n",
    "print()\n",
    "print(m)\n",
    "print()\n",
    "\n",
    "print(\"Shape = \", m.shape)\n",
    "print(\"Size = \", m.size)\n",
    "print(\"Type = \", type(m))\n",
    "print(\"dType = \", m.dtype)\n",
    "print(\"max = \", m.max())\n",
    "print(\"min = \", m.min())\n",
    "print(\"mean = \", m.mean())\n",
    "print(\"+ve count = \", (m > 0).sum())\n",
    "print(\"-ve count = \", (m < 0).sum())"
   ]
  },
  {
   "cell_type": "code",
   "execution_count": 114,
   "metadata": {},
   "outputs": [
    {
     "name": "stdout",
     "output_type": "stream",
     "text": [
      "\n",
      "[2 5 3 1]\n",
      "\n",
      "1st Element =  2\n",
      "3rd Element =  3\n",
      "Last Element =  1\n",
      "Second Last Element =  3\n"
     ]
    }
   ],
   "source": [
    "m = np.array([2,5,3,1])\n",
    "print()\n",
    "print(m)\n",
    "print()\n",
    "\n",
    "print(\"1st Element = \", m[0])\n",
    "print(\"3rd Element = \", m[2])\n",
    "print(\"Last Element = \", m[-1])\n",
    "print(\"Second Last Element = \", m[-2])"
   ]
  },
  {
   "cell_type": "code",
   "execution_count": 115,
   "metadata": {},
   "outputs": [
    {
     "name": "stdout",
     "output_type": "stream",
     "text": [
      "\n",
      "[[2 5 3 1]\n",
      " [1 4 5 6]]\n",
      "\n",
      "Original 3rd Element =  3\n",
      "Modified 3rd Element =  5\n",
      "\n",
      "[[2 5 5 1]\n",
      " [1 4 5 6]]\n",
      "\n"
     ]
    }
   ],
   "source": [
    "m = np.array([[2,5,3,1] , [1,4,5,6]])\n",
    "print()\n",
    "print(m)\n",
    "print()\n",
    "\n",
    "print(\"Original 3rd Element = \", m[0, 2])\n",
    "\n",
    "m[0, 2]=5\n",
    "\n",
    "print(\"Modified 3rd Element = \", m[0, 2])\n",
    "\n",
    "print()\n",
    "print(m)\n",
    "print()"
   ]
  },
  {
   "cell_type": "code",
   "execution_count": 116,
   "metadata": {},
   "outputs": [
    {
     "name": "stdout",
     "output_type": "stream",
     "text": [
      "\n",
      "[1 4 6 3 2]\n",
      "\n",
      "Deleting 2nd and 4th Element...\n",
      "\n",
      "[1 6 2]\n",
      "\n"
     ]
    }
   ],
   "source": [
    "x=np.array([1,4,6,3,2])\n",
    "\n",
    "print()\n",
    "print(x)\n",
    "print()\n",
    "\n",
    "x=np.delete(x, [1, 3])\n",
    "\n",
    "print(\"Deleting 2nd and 4th Element...\")\n",
    "\n",
    "print()\n",
    "print(x)\n",
    "print()"
   ]
  },
  {
   "cell_type": "code",
   "execution_count": 117,
   "metadata": {},
   "outputs": [
    {
     "name": "stdout",
     "output_type": "stream",
     "text": [
      "\n",
      "[[1 4 2]\n",
      " [4 6 2]]\n",
      "\n",
      "Deleting 1st Row...\n",
      "\n",
      "[[4 6 2]]\n",
      "\n",
      "Deleting 2nd and 3rd Columns...\n",
      "\n",
      "[[1]\n",
      " [4]]\n",
      "\n"
     ]
    }
   ],
   "source": [
    "x=np.array([[1,4,2], [4,6,2]])\n",
    "\n",
    "print()\n",
    "print(x)\n",
    "print()\n",
    "\n",
    "y=np.delete(x, 0, axis=0)\n",
    "z=np.delete(x, [1, 2], axis=1)\n",
    "\n",
    "print(\"Deleting 1st Row...\")\n",
    "\n",
    "print()\n",
    "print(y)\n",
    "print()\n",
    "\n",
    "print(\"Deleting 2nd and 3rd Columns...\")\n",
    "\n",
    "print()\n",
    "print(z)\n",
    "print()"
   ]
  },
  {
   "cell_type": "code",
   "execution_count": 118,
   "metadata": {},
   "outputs": [
    {
     "name": "stdout",
     "output_type": "stream",
     "text": [
      "\n",
      "[1 4 4 6 2]\n",
      "\n",
      "\n",
      "[1 4 4 6 2 4 6]\n",
      "\n",
      "\n",
      "[[1 4 2]\n",
      " [4 6 2]]\n",
      "\n",
      "Appending Row(s)...\n",
      "\n",
      "[[1 4 2]\n",
      " [4 6 2]\n",
      " [1 2 3]\n",
      " [3 4 5]]\n",
      "\n",
      "Appending Column(s)...\n",
      "\n",
      "[[1 4 2 1 4]\n",
      " [4 6 2 4 8]]\n",
      "\n"
     ]
    }
   ],
   "source": [
    "x=np.array([1,4,4,6,2])\n",
    "y=np.array([[1,4,2], [4,6,2]])\n",
    "\n",
    "print()\n",
    "print(x)\n",
    "print()\n",
    "\n",
    "x1=np.append(x, [4,6])\n",
    "\n",
    "print()\n",
    "print(x1)\n",
    "print()\n",
    "\n",
    "print()\n",
    "print(y)\n",
    "print()\n",
    "\n",
    "y1=np.append(y, [[1, 2, 3], [3, 4, 5]], axis=0)\n",
    "\n",
    "print(\"Appending Row(s)...\")\n",
    "\n",
    "print()\n",
    "print(y1)\n",
    "print()\n",
    "\n",
    "z=np.append(y, [[1, 4], [4, 8]], axis=1)\n",
    "\n",
    "print(\"Appending Column(s)...\")\n",
    "\n",
    "print()\n",
    "print(z)\n",
    "print()"
   ]
  },
  {
   "cell_type": "code",
   "execution_count": 119,
   "metadata": {},
   "outputs": [
    {
     "name": "stdout",
     "output_type": "stream",
     "text": [
      "\n",
      "[1 4 5 6 7]\n",
      "\n",
      "\n",
      "[1 2 3 4 5 6 7]\n",
      "\n",
      "\n",
      "[[1 4 2]\n",
      " [4 6 2]]\n",
      "\n",
      "Inserting Row(s)...\n",
      "\n",
      "[[1 4 2]\n",
      " [1 2 3]\n",
      " [3 4 5]\n",
      " [4 6 2]]\n",
      "\n",
      "Inserting Column(s)...\n",
      "\n",
      "[[1 6 3 4 2]\n",
      " [4 8 4 6 2]]\n",
      "\n"
     ]
    }
   ],
   "source": [
    "x=np.array([1,4,5,6,7])\n",
    "y=np.array([[1,4,2], [4,6,2]])\n",
    "\n",
    "print()\n",
    "print(x)\n",
    "print()\n",
    "\n",
    "x1=np.insert(x, 1, [2,3])\n",
    "\n",
    "print()\n",
    "print(x1)\n",
    "print()\n",
    "\n",
    "print()\n",
    "print(y)\n",
    "print()\n",
    "\n",
    "y1=np.insert(y, 1, [[1, 2, 3], [3, 4, 5]], axis=0)\n",
    "\n",
    "print(\"Inserting Row(s)...\")\n",
    "\n",
    "print()\n",
    "print(y1)\n",
    "print()\n",
    "\n",
    "z=np.insert(y, 1, [[6, 8], [3, 4]], axis=1)\n",
    "\n",
    "print(\"Inserting Column(s)...\")\n",
    "\n",
    "print()\n",
    "print(z)\n",
    "print()"
   ]
  },
  {
   "cell_type": "code",
   "execution_count": 120,
   "metadata": {},
   "outputs": [
    {
     "name": "stdout",
     "output_type": "stream",
     "text": [
      "\n",
      "[1 2]\n",
      "\n",
      "\n",
      "[[1 4]\n",
      " [4 6]]\n",
      "\n",
      "Stacking X on Top of Y....\n",
      "\n",
      "[[1 2]\n",
      " [1 4]\n",
      " [4 6]]\n",
      "\n",
      "Stacking X on Right of Y..Reshape Needed...\n",
      "\n",
      "[[1 4 1]\n",
      " [4 6 2]]\n",
      "\n"
     ]
    }
   ],
   "source": [
    "x=np.array([1,2])\n",
    "y=np.array([[1,4], [4,6]])\n",
    "\n",
    "print()\n",
    "print(x)\n",
    "print()\n",
    "\n",
    "print()\n",
    "print(y)\n",
    "print()\n",
    "\n",
    "x1=np.vstack((x, y))\n",
    "\n",
    "print(\"Stacking X on Top of Y....\")\n",
    "\n",
    "print()\n",
    "print(x1)\n",
    "print()\n",
    "\n",
    "y1=np.hstack((y, x.reshape(2, 1)))\n",
    "\n",
    "print(\"Stacking X on Right of Y..Reshape Needed...\")\n",
    "\n",
    "print()\n",
    "print(y1)\n",
    "print()"
   ]
  },
  {
   "cell_type": "code",
   "execution_count": 121,
   "metadata": {},
   "outputs": [
    {
     "name": "stdout",
     "output_type": "stream",
     "text": [
      "\n",
      "[1 2 4 5]\n",
      "\n",
      "\n",
      "[4 5]\n",
      "\n",
      "\n",
      "[[ 0  1  2  3  4]\n",
      " [ 5  6  7  8  9]\n",
      " [10 11 12 13 14]\n",
      " [15 16 17 18 19]]\n",
      "\n",
      "\n",
      "[[ 7  8  9]\n",
      " [12 13 14]\n",
      " [17 18 19]]\n",
      "\n",
      "\n",
      "[10 11 12 13 14]\n",
      "\n",
      "\n",
      "[ 3  8 13 18]\n",
      "Shape =  (4,)\n",
      "\n",
      "\n",
      "[[ 3]\n",
      " [ 8]\n",
      " [13]\n",
      " [18]]\n",
      "Shape =  (4, 1)\n",
      "\n"
     ]
    }
   ],
   "source": [
    "x=np.array([1, 2, 4, 5])\n",
    "y=np.arange(20).reshape(4, 5)\n",
    "\n",
    "print()\n",
    "print(x)\n",
    "print()\n",
    "\n",
    "x1=x[2:]\n",
    "\n",
    "print()\n",
    "print(x1)\n",
    "print()\n",
    "\n",
    "print()\n",
    "print(y)\n",
    "print()\n",
    "\n",
    "y1=y[1:,2:]\n",
    "print()\n",
    "print(y1)\n",
    "print()\n",
    "\n",
    "y2=y[2,:]\n",
    "print()\n",
    "print(y2)\n",
    "print()\n",
    "\n",
    "y3=y[:,3]\n",
    "print()\n",
    "print(y3)\n",
    "print(\"Shape = \", y3.shape)\n",
    "print()\n",
    "\n",
    "y4=y[:,3:4]\n",
    "print()\n",
    "print(y4)\n",
    "print(\"Shape = \", y4.shape)\n",
    "print()"
   ]
  },
  {
   "cell_type": "code",
   "execution_count": 122,
   "metadata": {},
   "outputs": [
    {
     "name": "stdout",
     "output_type": "stream",
     "text": [
      "\n",
      "[[ 0  1  2  3  4]\n",
      " [ 5  6  7  8  9]\n",
      " [10 11 12 13 14]\n",
      " [15 16 17 18 19]]\n",
      "\n",
      "\n",
      "[[ 7  8  9]\n",
      " [12 13 14]\n",
      " [17 18 19]]\n",
      "\n",
      "\n",
      "[[ 7  8  9]\n",
      " [12 13 20]\n",
      " [17 18 19]]\n",
      "\n",
      "\n",
      "[[ 0  1  2  3  4]\n",
      " [ 5  6  7  8  9]\n",
      " [10 11 12 13 20]\n",
      " [15 16 17 18 19]]\n",
      "\n"
     ]
    }
   ],
   "source": [
    "y=np.arange(20).reshape(4, 5)\n",
    "\n",
    "print()\n",
    "print(y)\n",
    "print()\n",
    "\n",
    "y1=y[1:,2:]\n",
    "\n",
    "print()\n",
    "print(y1)\n",
    "print()\n",
    "\n",
    "y1[1, 2] = 20\n",
    "\n",
    "print()\n",
    "print(y1)\n",
    "print()\n",
    "\n",
    "print()\n",
    "print(y)\n",
    "print()\n"
   ]
  },
  {
   "cell_type": "code",
   "execution_count": 123,
   "metadata": {},
   "outputs": [
    {
     "name": "stdout",
     "output_type": "stream",
     "text": [
      "\n",
      "[[ 0  1  2  3  4]\n",
      " [ 5  6  7  8  9]\n",
      " [10 11 12 13 14]\n",
      " [15 16 17 18 19]]\n",
      "\n",
      "\n",
      "[[ 7  8  9]\n",
      " [12 13 14]\n",
      " [17 18 19]]\n",
      "\n",
      "\n",
      "[[ 7  8  9]\n",
      " [12 13 20]\n",
      " [17 18 19]]\n",
      "\n",
      "\n",
      "[[ 0  1  2  3  4]\n",
      " [ 5  6  7  8  9]\n",
      " [10 11 12 13 14]\n",
      " [15 16 17 18 19]]\n",
      "\n"
     ]
    }
   ],
   "source": [
    "y=np.arange(20).reshape(4, 5)\n",
    "\n",
    "print()\n",
    "print(y)\n",
    "print()\n",
    "\n",
    "y1=y[1:,2:].copy()\n",
    "#y1=np.copy(y[1:, 2:])\n",
    "\n",
    "print()\n",
    "print(y1)\n",
    "print()\n",
    "\n",
    "y1[1, 2] = 20\n",
    "\n",
    "print()\n",
    "print(y1)\n",
    "print()\n",
    "\n",
    "print()\n",
    "print(y)\n",
    "print()"
   ]
  },
  {
   "cell_type": "code",
   "execution_count": 124,
   "metadata": {},
   "outputs": [
    {
     "name": "stdout",
     "output_type": "stream",
     "text": [
      "\n",
      "[[ 0  1  2  3  4]\n",
      " [ 5  6  7  8  9]\n",
      " [10 11 12 13 14]\n",
      " [15 16 17 18 19]]\n",
      "\n",
      "\n",
      "[1 3]\n",
      "\n",
      "\n",
      " [[ 5  6  7  8  9]\n",
      " [15 16 17 18 19]] \n",
      "\n",
      "\n",
      " [[ 1  3]\n",
      " [ 6  8]\n",
      " [11 13]\n",
      " [16 18]] \n",
      "\n"
     ]
    }
   ],
   "source": [
    "x=np.arange(20).reshape(4, 5)\n",
    "\n",
    "indices=np.array([1, 3])\n",
    "\n",
    "print()\n",
    "print(x)\n",
    "print()\n",
    "\n",
    "print()\n",
    "print(indices)\n",
    "print()\n",
    "\n",
    "x1=x[indices, :]\n",
    "\n",
    "print(\"\\n\",x1, \"\\n\")\n",
    "\n",
    "x2=x[:, indices]\n",
    "\n",
    "print(\"\\n\",x2, \"\\n\")"
   ]
  },
  {
   "cell_type": "code",
   "execution_count": 125,
   "metadata": {},
   "outputs": [
    {
     "name": "stdout",
     "output_type": "stream",
     "text": [
      "\n",
      "[[1 2 3]\n",
      " [4 5 6]\n",
      " [7 8 9]]\n",
      "\n",
      "\n",
      " main diag =  [1 5 9]\n",
      "\n",
      " left of main diag =  [4 8]\n",
      "\n",
      " right of main diag =  [2 6]\n"
     ]
    }
   ],
   "source": [
    "x=np.arange(1, 10).reshape(3, 3)\n",
    "\n",
    "print()\n",
    "print(x)\n",
    "print()\n",
    "\n",
    "print(\"\\n main diag = \", np.diag(x))\n",
    "print(\"\\n left of main diag = \", np.diag(x, k=-1))\n",
    "print(\"\\n right of main diag = \", np.diag(x, k=1))"
   ]
  },
  {
   "cell_type": "code",
   "execution_count": 126,
   "metadata": {},
   "outputs": [
    {
     "name": "stdout",
     "output_type": "stream",
     "text": [
      "[[1 4]\n",
      " [4 6]\n",
      " [2 6]]\n",
      "\n",
      " unique elements =  [1 2 4 6]\n"
     ]
    }
   ],
   "source": [
    "y=np.array([[1,4], [4,6], [2,6]])\n",
    "\n",
    "print(y)\n",
    "\n",
    "print(\"\\n unique elements = \", np.unique(y))"
   ]
  },
  {
   "cell_type": "code",
   "execution_count": 135,
   "metadata": {},
   "outputs": [
    {
     "name": "stdout",
     "output_type": "stream",
     "text": [
      "[[ 0  1  2  3  4  5  6  7  8  9 10 11 12 13 14 15 16 17 18 19]\n",
      " [20 21 22 23 24 25 26 27 28 29 30 31 32 33 34 35 36 37 38 39]\n",
      " [40 41 42 43 44 45 46 47 48 49 50 51 52 53 54 55 56 57 58 59]\n",
      " [60 61 62 63 64 65 66 67 68 69 70 71 72 73 74 75 76 77 78 79]\n",
      " [80 81 82 83 84 85 86 87 88 89 90 91 92 93 94 95 96 97 98 99]]\n",
      "\n",
      " y > 25 \n",
      " [26 27 28 29 30 31 32 33 34 35 36 37 38 39 40 41 42 43 44 45 46 47 48 49\n",
      " 50 51 52 53 54 55 56 57 58 59 60 61 62 63 64 65 66 67 68 69 70 71 72 73\n",
      " 74 75 76 77 78 79 80 81 82 83 84 85 86 87 88 89 90 91 92 93 94 95 96 97\n",
      " 98 99]\n",
      "\n",
      " y < 25 \n",
      " [ 0  1  2  3  4  5  6  7  8  9 10 11 12 13 14 15 16 17 18 19 20 21 22 23\n",
      " 24]\n",
      "\n",
      " y == 25 \n",
      " [25]\n",
      "\n",
      " y = \n",
      " [[ 0  1  2  3  4  5  6  7  8  9 10 -1 -1 -1 -1 -1 -1 -1 -1 -1]\n",
      " [-1 -1 -1 -1 -1 25 26 27 28 29 30 31 32 33 34 35 36 37 38 39]\n",
      " [40 41 42 43 44 45 46 47 48 49 50 51 52 53 54 55 56 57 58 59]\n",
      " [60 61 62 63 64 65 66 67 68 69 70 71 72 73 74 75 76 77 78 79]\n",
      " [80 81 82 83 84 85 86 87 88 89 90 91 92 93 94 95 96 97 98 99]]\n"
     ]
    }
   ],
   "source": [
    "y=np.arange(100).reshape(5, 20)\n",
    "\n",
    "print(y)\n",
    "\n",
    "print(\"\\n y > 25 \\n\", y[y > 25])\n",
    "print(\"\\n y < 25 \\n\", y[y < 25])\n",
    "print(\"\\n y == 25 \\n\", y[y == 25])\n",
    "\n",
    "y[(y < 25) & (y > 10)]=-1\n",
    "\n",
    "print(\"\\n y = \\n\",y)"
   ]
  },
  {
   "cell_type": "code",
   "execution_count": 138,
   "metadata": {},
   "outputs": [
    {
     "name": "stdout",
     "output_type": "stream",
     "text": [
      "[0 1 2 3 4 5 6 7 8 9]\n",
      "[ 0  1  2  3  4  5  6  7  8  9 10 11]\n",
      "Common = \n",
      " [0 1 2 3 4 5 6 7 8 9]\n",
      "In y but not in x = \n",
      " []\n",
      "All = \n",
      " [ 0  1  2  3  4  5  6  7  8  9 10 11]\n"
     ]
    }
   ],
   "source": [
    "y=np.arange(10)\n",
    "x=np.arange(12)\n",
    "\n",
    "print(y)\n",
    "print(x)\n",
    "\n",
    "print(\"Common = \\n\", np.intersect1d(y, x))\n",
    "print(\"In y but not in x = \\n\", np.setdiff1d(y, x))\n",
    "print(\"All = \\n\", np.union1d(y, x))"
   ]
  },
  {
   "cell_type": "code",
   "execution_count": 147,
   "metadata": {},
   "outputs": [
    {
     "name": "stdout",
     "output_type": "stream",
     "text": [
      "[3 3 4 4 1 3 2 2 3 1]\n",
      "\n",
      "Sorting (out of place) = \n",
      " [1 1 2 2 3 3 3 3 4 4]\n",
      "\n",
      " [3 3 4 4 1 3 2 2 3 1] \n",
      "\n",
      "\n",
      "Sorting (in-place) = \n",
      "[1 1 2 2 3 3 3 3 4 4]\n"
     ]
    }
   ],
   "source": [
    "x=np.random.randint(1, 5, size=(10,))\n",
    "\n",
    "print(x)\n",
    "\n",
    "print(\"\\nSorting (out of place) = \\n\", np.sort(x))\n",
    "\n",
    "print(\"\\n\", x, \"\\n\")\n",
    "\n",
    "print(\"\\nSorting (in-place) = \")\n",
    "\n",
    "x.sort()\n",
    "print(x)"
   ]
  },
  {
   "cell_type": "code",
   "execution_count": 153,
   "metadata": {},
   "outputs": [
    {
     "name": "stdout",
     "output_type": "stream",
     "text": [
      "[[11  9  8 10]\n",
      " [ 2  5  3  7]\n",
      " [ 9  3  1  4]\n",
      " [ 3  1  1  8]]\n",
      "\n",
      "Sorting (in-place) = \n",
      "\n",
      " Sorting by rows (axis=1)\n",
      "[[ 8  9 10 11]\n",
      " [ 2  3  5  7]\n",
      " [ 1  3  4  9]\n",
      " [ 1  1  3  8]]\n",
      "\n",
      " Sorting by columns (axis=0)\n",
      "[[ 1  1  3  7]\n",
      " [ 1  3  4  8]\n",
      " [ 2  3  5  9]\n",
      " [ 8  9 10 11]]\n"
     ]
    }
   ],
   "source": [
    "x=np.random.randint(1, 12, size=(4,4))\n",
    "print(x)\n",
    "\n",
    "print(\"\\nSorting (in-place) = \")\n",
    "\n",
    "print(\"\\n Sorting by rows (axis=1)\")\n",
    "\n",
    "x.sort(axis=1)\n",
    "\n",
    "print(x)\n",
    "\n",
    "print(\"\\n Sorting by columns (axis=0)\")\n",
    "\n",
    "x.sort(axis=0)\n",
    "\n",
    "print(x)"
   ]
  },
  {
   "cell_type": "code",
   "execution_count": 155,
   "metadata": {},
   "outputs": [
    {
     "name": "stdout",
     "output_type": "stream",
     "text": [
      "[1 2 3 4]\n",
      "[5 6 7 8]\n",
      "[ 6  8 10 12]\n",
      "[ 6  8 10 12]\n",
      "[-4 -4 -4 -4]\n",
      "[-4 -4 -4 -4]\n",
      "[ 5 12 21 32]\n",
      "[ 5 12 21 32]\n",
      "[0.2        0.33333333 0.42857143 0.5       ]\n",
      "[0.2        0.33333333 0.42857143 0.5       ]\n"
     ]
    }
   ],
   "source": [
    "x=np.array([1, 2, 3, 4])\n",
    "y=np.array([5, 6, 7, 8])\n",
    "\n",
    "print(x)\n",
    "print(y)\n",
    "\n",
    "print(x+y)\n",
    "print(np.add(x, y))\n",
    "\n",
    "print(x-y)\n",
    "print(np.subtract(x, y))\n",
    "\n",
    "print(x*y)\n",
    "print(np.multiply(x, y))\n",
    "\n",
    "print(x/y)\n",
    "print(np.divide(x, y))"
   ]
  },
  {
   "cell_type": "code",
   "execution_count": 156,
   "metadata": {},
   "outputs": [
    {
     "name": "stdout",
     "output_type": "stream",
     "text": [
      "[[1 2]\n",
      " [3 4]]\n",
      "[[5 6]\n",
      " [7 8]]\n",
      "[[ 6  8]\n",
      " [10 12]]\n",
      "[[ 6  8]\n",
      " [10 12]]\n",
      "[[-4 -4]\n",
      " [-4 -4]]\n",
      "[[-4 -4]\n",
      " [-4 -4]]\n",
      "[[ 5 12]\n",
      " [21 32]]\n",
      "[[ 5 12]\n",
      " [21 32]]\n",
      "[[0.2        0.33333333]\n",
      " [0.42857143 0.5       ]]\n",
      "[[0.2        0.33333333]\n",
      " [0.42857143 0.5       ]]\n"
     ]
    }
   ],
   "source": [
    "x=np.array([1, 2, 3, 4]).reshape(2, 2)\n",
    "y=np.array([5, 6, 7, 8]).reshape(2, 2)\n",
    "\n",
    "print(x)\n",
    "print(y)\n",
    "\n",
    "print(x+y)\n",
    "print(np.add(x, y))\n",
    "\n",
    "print(x-y)\n",
    "print(np.subtract(x, y))\n",
    "\n",
    "print(x*y)\n",
    "print(np.multiply(x, y))\n",
    "\n",
    "print(x/y)\n",
    "print(np.divide(x, y))"
   ]
  },
  {
   "cell_type": "code",
   "execution_count": 157,
   "metadata": {},
   "outputs": [
    {
     "name": "stdout",
     "output_type": "stream",
     "text": [
      "[[1 2]\n",
      " [3 4]]\n",
      "[[5 6]\n",
      " [7 8]]\n",
      "[[ 2.71828183  7.3890561 ]\n",
      " [20.08553692 54.59815003]]\n",
      "[[1.         1.41421356]\n",
      " [1.73205081 2.        ]]\n",
      "[[    1    64]\n",
      " [ 2187 65536]]\n"
     ]
    }
   ],
   "source": [
    "x=np.array([1, 2, 3, 4]).reshape(2, 2)\n",
    "y=np.array([5, 6, 7, 8]).reshape(2, 2)\n",
    "\n",
    "print(x)\n",
    "print(y)\n",
    "\n",
    "print(np.exp(x))\n",
    "print(np.sqrt(x))\n",
    "print(np.power(x, y))"
   ]
  },
  {
   "cell_type": "code",
   "execution_count": 158,
   "metadata": {},
   "outputs": [
    {
     "name": "stdout",
     "output_type": "stream",
     "text": [
      "\n",
      "X = \n",
      " [[1 2]\n",
      " [3 4]]\n",
      "\n",
      "Average of all elements in X: 2.5\n",
      "Average of all elements in the columns of X: [2. 3.]\n",
      "Average of all elements in the rows of X: [1.5 3.5]\n",
      "\n",
      "Sum of all elements in X: 10\n",
      "Sum of all elements in the columns of X: [4 6]\n",
      "Sum of all elements in the rows of X: [3 7]\n",
      "\n",
      "Standard Deviation of all elements in X: 1.118033988749895\n",
      "Standard Deviation of all elements in the columns of X: [1. 1.]\n",
      "Standard Deviation of all elements in the rows of X: [0.5 0.5]\n",
      "\n",
      "Median of all elements in X: 2.5\n",
      "Median of all elements in the columns of X: [2. 3.]\n",
      "Median of all elements in the rows of X: [1.5 3.5]\n",
      "\n",
      "Maximum value of all elements in X: 4\n",
      "Maximum value of all elements in the columns of X: [3 4]\n",
      "Maximum value of all elements in the rows of X: [2 4]\n",
      "\n",
      "Minimum value of all elements in X: 1\n",
      "Minimum value of all elements in the columns of X: [1 2]\n",
      "Minimum value of all elements in the rows of X: [1 3]\n"
     ]
    }
   ],
   "source": [
    "# We create a 2 x 2 ndarray\n",
    "X = np.array([[1,2], [3,4]])\n",
    "\n",
    "# We print x\n",
    "print()\n",
    "print('X = \\n', X)\n",
    "print()\n",
    "\n",
    "print('Average of all elements in X:', X.mean())\n",
    "print('Average of all elements in the columns of X:', X.mean(axis=0))\n",
    "print('Average of all elements in the rows of X:', X.mean(axis=1))\n",
    "print()\n",
    "print('Sum of all elements in X:', X.sum())\n",
    "print('Sum of all elements in the columns of X:', X.sum(axis=0))\n",
    "print('Sum of all elements in the rows of X:', X.sum(axis=1))\n",
    "print()\n",
    "print('Standard Deviation of all elements in X:', X.std())\n",
    "print('Standard Deviation of all elements in the columns of X:', X.std(axis=0))\n",
    "print('Standard Deviation of all elements in the rows of X:', X.std(axis=1))\n",
    "print()\n",
    "print('Median of all elements in X:', np.median(X))\n",
    "print('Median of all elements in the columns of X:', np.median(X,axis=0))\n",
    "print('Median of all elements in the rows of X:', np.median(X,axis=1))\n",
    "print()\n",
    "print('Maximum value of all elements in X:', X.max())\n",
    "print('Maximum value of all elements in the columns of X:', X.max(axis=0))\n",
    "print('Maximum value of all elements in the rows of X:', X.max(axis=1))\n",
    "print()\n",
    "print('Minimum value of all elements in X:', X.min())\n",
    "print('Minimum value of all elements in the columns of X:', X.min(axis=0))\n",
    "print('Minimum value of all elements in the rows of X:', X.min(axis=1))"
   ]
  },
  {
   "cell_type": "code",
   "execution_count": 159,
   "metadata": {},
   "outputs": [
    {
     "name": "stdout",
     "output_type": "stream",
     "text": [
      "\n",
      "X = \n",
      " [[1 2]\n",
      " [3 4]]\n",
      "\n",
      "3 * X = \n",
      " [[ 3  6]\n",
      " [ 9 12]]\n",
      "\n",
      "3 + X = \n",
      " [[4 5]\n",
      " [6 7]]\n",
      "\n",
      "X - 3 = \n",
      " [[-2 -1]\n",
      " [ 0  1]]\n",
      "\n",
      "X / 3 = \n",
      " [[0.33333333 0.66666667]\n",
      " [1.         1.33333333]]\n"
     ]
    }
   ],
   "source": [
    "# We create a 2 x 2 ndarray\n",
    "X = np.array([[1,2], [3,4]])\n",
    "\n",
    "# We print x\n",
    "print()\n",
    "print('X = \\n', X)\n",
    "print()\n",
    "\n",
    "print('3 * X = \\n', 3 * X)\n",
    "print()\n",
    "print('3 + X = \\n', 3 + X)\n",
    "print()\n",
    "print('X - 3 = \\n', X - 3)\n",
    "print()\n",
    "print('X / 3 = \\n', X / 3)"
   ]
  },
  {
   "cell_type": "code",
   "execution_count": 160,
   "metadata": {},
   "outputs": [
    {
     "name": "stdout",
     "output_type": "stream",
     "text": [
      "\n",
      "x =  [1 2 3]\n",
      "\n",
      "\n",
      "Y = \n",
      " [[1 2 3]\n",
      " [4 5 6]\n",
      " [7 8 9]]\n",
      "\n",
      "\n",
      "Z = \n",
      " [[1]\n",
      " [2]\n",
      " [3]]\n",
      "\n",
      "x + Y = \n",
      " [[ 2  4  6]\n",
      " [ 5  7  9]\n",
      " [ 8 10 12]]\n",
      "\n",
      "Z + Y = \n",
      " [[ 2  3  4]\n",
      " [ 6  7  8]\n",
      " [10 11 12]]\n"
     ]
    }
   ],
   "source": [
    "# We create a rank 1 ndarray\n",
    "x = np.array([1,2,3])\n",
    "\n",
    "# We create a 3 x 3 ndarray\n",
    "Y = np.array([[1,2,3],[4,5,6],[7,8,9]])\n",
    "\n",
    "# We create a 3 x 1 ndarray\n",
    "Z = np.array([1,2,3]).reshape(3,1)\n",
    "\n",
    "# We print x\n",
    "print()\n",
    "print('x = ', x)\n",
    "print()\n",
    "\n",
    "# We print Y\n",
    "print()\n",
    "print('Y = \\n', Y)\n",
    "print()\n",
    "\n",
    "# We print Z\n",
    "print()\n",
    "print('Z = \\n', Z)\n",
    "print()\n",
    "\n",
    "print('x + Y = \\n', x + Y)\n",
    "print()\n",
    "print('Z + Y = \\n',Z + Y)"
   ]
  },
  {
   "cell_type": "code",
   "execution_count": null,
   "metadata": {},
   "outputs": [],
   "source": []
  }
 ],
 "metadata": {
  "kernelspec": {
   "display_name": "Python 3",
   "language": "python",
   "name": "python3"
  },
  "language_info": {
   "codemirror_mode": {
    "name": "ipython",
    "version": 3
   },
   "file_extension": ".py",
   "mimetype": "text/x-python",
   "name": "python",
   "nbconvert_exporter": "python",
   "pygments_lexer": "ipython3",
   "version": "3.6.5"
  }
 },
 "nbformat": 4,
 "nbformat_minor": 2
}
